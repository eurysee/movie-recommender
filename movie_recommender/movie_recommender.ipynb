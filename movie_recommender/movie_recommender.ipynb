{
 "cells": [
  {
   "cell_type": "code",
   "execution_count": 18,
   "id": "11e10993",
   "metadata": {},
   "outputs": [],
   "source": [
    "import pandas as pd\n",
    "import torch\n",
    "import gradio as gr\n",
    "from fastai.collab import *\n",
    "from fastai.tabular.all import *\n",
    "from pathlib import Path"
   ]
  },
  {
   "cell_type": "code",
   "execution_count": 19,
   "id": "c3982ff8",
   "metadata": {},
   "outputs": [],
   "source": [
    "# Load ratings data\n",
    "base_path = Path.cwd() / 'ml-1m'\n",
    "\n",
    "ratings = pd.read_csv(base_path / 'ratings.dat', sep='::', engine='python', names=['user', 'movie', 'rating', 'timestamp'])\n",
    "\n",
    "# Convert IDs to strings for categorical processing\n",
    "ratings['user'] = ratings['user'].astype(str)\n",
    "ratings['movie'] = ratings['movie'].astype(str)"
   ]
  },
  {
   "cell_type": "code",
   "execution_count": 20,
   "id": "9a4fdbf7",
   "metadata": {},
   "outputs": [],
   "source": [
    "# Load movie titles\n",
    "movies = pd.read_csv(base_path / 'movies.dat', sep='::', engine='python', encoding='latin-1', names=['movie_id', 'title', 'genres'])\n",
    "\n",
    "# Dictionary to show string instead of IDs\n",
    "movies['movie_id'] = movies['movie_id'].astype(str)\n",
    "movie_id_to_title = dict(zip(movies['movie_id'], movies['title']))\n",
    "\n",
    "# # Show all movies\n",
    "# print(movies[['movie_id', 'title']])"
   ]
  },
  {
   "cell_type": "code",
   "execution_count": 21,
   "id": "5e68deb0",
   "metadata": {},
   "outputs": [],
   "source": [
    "# Create dataloaders\n",
    "dls = CollabDataLoaders.from_df(ratings, user_name='user', item_name='movie', rating_name='rating', bs=64)"
   ]
  },
  {
   "cell_type": "code",
   "execution_count": 22,
   "id": "fc376122",
   "metadata": {},
   "outputs": [
    {
     "data": {
      "text/html": [
       "\n",
       "<style>\n",
       "    /* Turns off some styling */\n",
       "    progress {\n",
       "        /* gets rid of default border in Firefox and Opera. */\n",
       "        border: none;\n",
       "        /* Needs to be in here for Safari polyfill so background images work as expected. */\n",
       "        background-size: auto;\n",
       "    }\n",
       "    progress:not([value]), progress:not([value])::-webkit-progress-bar {\n",
       "        background: repeating-linear-gradient(45deg, #7e7e7e, #7e7e7e 10px, #5c5c5c 10px, #5c5c5c 20px);\n",
       "    }\n",
       "    .progress-bar-interrupted, .progress-bar-interrupted::-webkit-progress-bar {\n",
       "        background: #F44336;\n",
       "    }\n",
       "</style>\n"
      ],
      "text/plain": [
       "<IPython.core.display.HTML object>"
      ]
     },
     "metadata": {},
     "output_type": "display_data"
    },
    {
     "data": {
      "text/html": [
       "<table border=\"1\" class=\"dataframe\">\n",
       "  <thead>\n",
       "    <tr style=\"text-align: left;\">\n",
       "      <th>epoch</th>\n",
       "      <th>train_loss</th>\n",
       "      <th>valid_loss</th>\n",
       "      <th>_rmse</th>\n",
       "      <th>time</th>\n",
       "    </tr>\n",
       "  </thead>\n",
       "  <tbody>\n",
       "    <tr>\n",
       "      <td>0</td>\n",
       "      <td>0.792953</td>\n",
       "      <td>0.870507</td>\n",
       "      <td>0.933010</td>\n",
       "      <td>01:21</td>\n",
       "    </tr>\n",
       "    <tr>\n",
       "      <td>1</td>\n",
       "      <td>0.686489</td>\n",
       "      <td>0.920276</td>\n",
       "      <td>0.959310</td>\n",
       "      <td>01:19</td>\n",
       "    </tr>\n",
       "    <tr>\n",
       "      <td>2</td>\n",
       "      <td>0.571860</td>\n",
       "      <td>0.877945</td>\n",
       "      <td>0.936987</td>\n",
       "      <td>01:40</td>\n",
       "    </tr>\n",
       "    <tr>\n",
       "      <td>3</td>\n",
       "      <td>0.467346</td>\n",
       "      <td>0.841483</td>\n",
       "      <td>0.917324</td>\n",
       "      <td>01:46</td>\n",
       "    </tr>\n",
       "    <tr>\n",
       "      <td>4</td>\n",
       "      <td>0.433380</td>\n",
       "      <td>0.830830</td>\n",
       "      <td>0.911499</td>\n",
       "      <td>01:31</td>\n",
       "    </tr>\n",
       "  </tbody>\n",
       "</table>"
      ],
      "text/plain": [
       "<IPython.core.display.HTML object>"
      ]
     },
     "metadata": {},
     "output_type": "display_data"
    }
   ],
   "source": [
    "# Create and train model\n",
    "learn = collab_learner(dls, n_factors=50, y_range=(0,5.5), metrics=rmse)\n",
    "\n",
    "# 5 epochs, 0.0005 learning rate\n",
    "learn.fit_one_cycle(5, 5e-3)"
   ]
  },
  {
   "cell_type": "code",
   "execution_count": 23,
   "id": "adc7576d",
   "metadata": {},
   "outputs": [
    {
     "name": "stdout",
     "output_type": "stream",
     "text": [
      "Predicted rating by user 24 for 'X-Men (2000)': 3.39\n"
     ]
    }
   ],
   "source": [
    "# Predict rating for a user/movie \n",
    "def predict_rating(user, movie_title):\n",
    "    user = str(user)\n",
    "    movie_title_lower = movie_title.lower().strip()\n",
    "\n",
    "    # Handle casing\n",
    "    title_to_id = {title.lower(): mid for mid, title in movie_id_to_title.items()}\n",
    "    \n",
    "    # Find movie ID by title\n",
    "    matching_ids = [mid for title, mid in title_to_id.items() if movie_title_lower in title]\n",
    "    \n",
    "    if not matching_ids:\n",
    "        return f\"Movie title '{movie_title}' not found.\"\n",
    "    \n",
    "    movie = matching_ids[0]  # take the first match\n",
    "\n",
    "    if user not in dls.classes['user']:\n",
    "        return f\"User {user} not found.\"\n",
    "    if movie not in dls.classes['movie']:\n",
    "        return f\"Movie '{movie_title}' not found in training data.\"\n",
    "\n",
    "    test_df = pd.DataFrame([[user, movie]], columns=['user', 'movie'])\n",
    "    test_dl = dls.test_dl(test_df)\n",
    "    \n",
    "    batch = first(test_dl)\n",
    "\n",
    "    learn.model.cpu()\n",
    "    batch = tuple(b.cpu() for b in batch)\n",
    "\n",
    "    with torch.no_grad():\n",
    "        pred = learn.model(*batch)\n",
    "\n",
    "    pred_rating = pred.item()\n",
    "    \n",
    "    return f\"Predicted rating by user {user} for '{movie_id_to_title[movie]}': {pred_rating:.2f}\"\n",
    "\n",
    "# User input\n",
    "user_input = input(\"Enter user ID: \")\n",
    "movie_title_input = input(\"Enter movie title: \")\n",
    "result = predict_rating(user_input, movie_title_input)\n",
    "print(result)"
   ]
  },
  {
   "cell_type": "code",
   "execution_count": 24,
   "id": "e93bef21",
   "metadata": {},
   "outputs": [
    {
     "name": "stdout",
     "output_type": "stream",
     "text": [
      "Movies similar to 'Star Wars: Episode IV - A New Hope':\n",
      "- Star Wars: Episode V - The Empire Strikes Back (1980)\n",
      "- Raiders of the Lost Ark (1981)\n",
      "- Star Wars: Episode VI - Return of the Jedi (1983)\n",
      "- Star Wars: Episode I - The Phantom Menace (1999)\n",
      "- Young Sherlock Holmes (1985)\n"
     ]
    }
   ],
   "source": [
    "# Find movies similar to target movie \n",
    "def movies_similar_to(movie_title, n=5):\n",
    "    # Inverse mapping: title -> movie_id\n",
    "    inv_map = {v: k for k, v in movie_id_to_title.items()}\n",
    "    movie_title_lower = movie_title.lower().strip()\n",
    "    inv_map = {v.lower(): k for k, v in movie_id_to_title.items()}\n",
    "    movie_id = None\n",
    "    for title, mid in inv_map.items():\n",
    "        if movie_title_lower in title:\n",
    "            movie_id = mid\n",
    "            break\n",
    "        \n",
    "    movie_classes = list(dls.classes['movie'])  # convert CategoryMap to list\n",
    "    if movie_id is None:\n",
    "        return []\n",
    "    movie_idx = movie_classes.index(movie_id)\n",
    "\n",
    "    movie_embs = learn.model.i_weight.weight.data\n",
    "    target_emb = movie_embs[movie_idx]\n",
    "\n",
    "    sims = torch.nn.functional.cosine_similarity(target_emb.unsqueeze(0), movie_embs)\n",
    "    top_idxs = sims.topk(n + 1).indices.tolist()  # +1 to include itself\n",
    "    top_idxs = [i for i in top_idxs if i != movie_idx][:n]  # exclude itself\n",
    "\n",
    "    similar_movies = [movie_id_to_title[dls.classes['movie'][i]] for i in top_idxs]\n",
    "    return similar_movies\n",
    "\n",
    "movie_input = input(\"Enter a movie title: \")\n",
    "results = movies_similar_to(movie_input)\n",
    "if not results:\n",
    "    print(\"Movie not found.\")\n",
    "else:\n",
    "    print(f\"Movies similar to '{movie_input}':\")\n",
    "    for m in results:\n",
    "        print(f\"- {m}\")"
   ]
  }
 ],
 "metadata": {
  "kernelspec": {
   "display_name": "Python 3",
   "language": "python",
   "name": "python3"
  },
  "language_info": {
   "codemirror_mode": {
    "name": "ipython",
    "version": 3
   },
   "file_extension": ".py",
   "mimetype": "text/x-python",
   "name": "python",
   "nbconvert_exporter": "python",
   "pygments_lexer": "ipython3",
   "version": "3.9.6"
  }
 },
 "nbformat": 4,
 "nbformat_minor": 5
}
